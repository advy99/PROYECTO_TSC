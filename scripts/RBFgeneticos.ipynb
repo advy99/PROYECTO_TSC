{
 "cells": [
  {
   "cell_type": "markdown",
   "metadata": {},
   "source": [
    "# PRÁCTICAS DE REDES NEURONALES ARTIFICIALES (TSCAO): Parte III\n",
    "\n",
    "\n",
    "\n",
    "## 4. REDES NEURONALES DE FUNCIÓN BASE RADIAL"
   ]
  },
  {
   "cell_type": "markdown",
   "metadata": {},
   "source": [
    "**Código para implementar una Red Neuronal RBF**\n",
    "\n",
    "Vamos a implementar la función base radial:"
   ]
  },
  {
   "cell_type": "code",
   "execution_count": 91,
   "metadata": {},
   "outputs": [],
   "source": [
    "import numpy as np\n",
    "\n",
    "def rbf(x, c, s):\n",
    "    return np.exp(-1 / (2 * s**2) * (x-c)**2)"
   ]
  },
  {
   "cell_type": "markdown",
   "metadata": {},
   "source": [
    "Ahora necesitaremos usar el algoritmo de agrupación k-means para determinar los centros de los cluster. El siguiente código nos da los centros de clúster y las desviaciones estándar de los clústeres."
   ]
  },
  {
   "cell_type": "code",
   "execution_count": 92,
   "metadata": {},
   "outputs": [],
   "source": [
    "def kmeans(X, k):\n",
    "    \"\"\"Performs k-means clustering for 1D input\n",
    "       Arguments:\n",
    "        X {ndarray} -- A Mx1 array of inputs\n",
    "        k {int} -- Number of clusters\n",
    "    \n",
    "    Returns:\n",
    "        ndarray -- A kx1 array of final cluster centers\n",
    "    \"\"\"\n",
    " \n",
    "    # randomly select initial clusters from input data\n",
    "    #clusters = np.random.choice(np.squeeze(X), size=k)\n",
    "    indices_aleatorios = np.random.randint(0,len(X),size=k)\n",
    "    clusters = X[indices_aleatorios]\n",
    "    prevClusters = clusters.copy()\n",
    "    stds = np.zeros(k)\n",
    "    converged = False\n",
    " \n",
    "    while not converged:\n",
    "        \"\"\"\n",
    "        compute distances for each cluster center to each point \n",
    "        where (distances[i, j] represents the distance between the ith point and jth cluster)\n",
    "        \"\"\"\n",
    "        distances = np.squeeze(np.abs(X[:, np.newaxis] - clusters[np.newaxis, :]))\n",
    " \n",
    "        # find the cluster that's closest to each point\n",
    "        closestCluster = np.argmin(distances, axis=1)\n",
    " \n",
    "        # update clusters by taking the mean of all of the points assigned to that cluster\n",
    "        for i in range(k):\n",
    "            pointsForCluster = X[closestCluster == i]\n",
    "            if len(pointsForCluster) > 0:\n",
    "                clusters[i] = np.mean(pointsForCluster, axis=0)\n",
    " \n",
    "        # converge if clusters haven't moved\n",
    "        converged = np.linalg.norm(clusters - prevClusters) < 1e-6\n",
    "        prevClusters = clusters.copy()\n",
    " \n",
    "    distances = np.squeeze(np.abs(X[:, np.newaxis] - clusters[np.newaxis, :]))\n",
    "    closestCluster = np.argmin(distances, axis=1)\n",
    " \n",
    "    clustersWithNoPoints = []\n",
    "    for i in range(k):\n",
    "        pointsForCluster = X[closestCluster == i]\n",
    "        if len(pointsForCluster) < 2:\n",
    "            # keep track of clusters with no points or 1 point\n",
    "            clustersWithNoPoints.append(i)\n",
    "            continue\n",
    "        else:\n",
    "            stds[i] = np.std(X[closestCluster == i])\n",
    " \n",
    "    # if there are clusters with 0 or 1 points, take the mean std of the other clusters\n",
    "    if len(clustersWithNoPoints) > 0:\n",
    "        pointsToAverage = []\n",
    "        for i in range(k):\n",
    "            if i not in clustersWithNoPoints:\n",
    "                pointsToAverage.append(X[closestCluster == i])\n",
    "        pointsToAverage = np.concatenate(pointsToAverage).ravel()\n",
    "        stds[clustersWithNoPoints] = np.mean(np.std(pointsToAverage))\n",
    "    return clusters, stds"
   ]
  },
  {
   "cell_type": "markdown",
   "metadata": {},
   "source": [
    "Este código implementa el algoritmo de clustering k-means y calcula las desviaciones estándar. Si hay un cluster con ninguno o uno de los puntos asignados, simplemente promediamos la desviación estándar de los otros grupos. (No podemos calcular la desviación estándar sin puntos de datos, y la desviación estándar de un solo punto de datos es 0).\n",
    "\n",
    "Ahora implementaremos la clase RBF:"
   ]
  },
  {
   "cell_type": "code",
   "execution_count": 93,
   "metadata": {},
   "outputs": [],
   "source": [
    "class RBFNet(object):\n",
    "    \"\"\"Implementation of a Radial Basis Function Network\"\"\"\n",
    "    def __init__(self, k=2, lr=0.01, epochs=100, rbf=rbf, inferStds=True, verbose = False):\n",
    "        self.k = k\n",
    "        self.lr = lr\n",
    "        self.epochs = epochs\n",
    "        self.rbf = rbf\n",
    "        self.inferStds = inferStds\n",
    "        self.verbose = verbose\n",
    " \n",
    "        self.w = np.random.randn(k)\n",
    "        self.b = np.random.randn(1)\n",
    "                \n",
    "    def fit(self, X, y):\n",
    "        if self.inferStds:\n",
    "            # compute stds from data\n",
    "            self.centers, self.stds = kmeans(X, self.k)\n",
    "        else:\n",
    "            # use a fixed std \n",
    "            self.centers, _ = kmeans(X, self.k)\n",
    "            dMax = max([np.abs(c1 - c2) for c1 in self.centers for c2 in self.centers])\n",
    "            self.stds = np.repeat(dMax / np.sqrt(2*self.k), self.k)\n",
    " \n",
    "        # training\n",
    "        for epoch in range(self.epochs):\n",
    "            for i in range(X.shape[0]):\n",
    "                # forward pass\n",
    "                a = np.array([self.rbf(X[i], c, s) for c, s, in zip(self.centers, self.stds)])\n",
    "                F = a.T.dot(self.w) + self.b\n",
    " \n",
    "                loss = (y[i] - F).flatten() ** 2\n",
    "                if self.verbose:\n",
    "                    print('Loss: {0:.2f}'.format(loss[0]))\n",
    " \n",
    "                # backward pass\n",
    "                error = -(y[i] - F).flatten()\n",
    " \n",
    "                # online update\n",
    "                self.w = self.w - self.lr * a * error\n",
    "                self.b = self.b - self.lr * error\n",
    "            \n",
    "                \n",
    "    def predict(self, X):\n",
    "        y_pred = []\n",
    "        for i in range(X.shape[0]):\n",
    "            a = np.array([self.rbf(X[i], c, s) for c, s, in zip(self.centers, self.stds)])\n",
    "            F = a.T.dot(self.w) + self.b\n",
    "            y_pred.append(F)\n",
    "        return np.array(y_pred)\n"
   ]
  },
  {
   "cell_type": "markdown",
   "metadata": {},
   "source": [
    "Ahora pasamos a implementar el algoritmo genético y la red RBF pero entrenandola con geneticos:"
   ]
  },
  {
   "cell_type": "code",
   "execution_count": 94,
   "metadata": {},
   "outputs": [],
   "source": [
    "import math\n",
    "from sklearn.metrics import mean_squared_error\n",
    "\n",
    "class Individuo(object):\n",
    "    def __init__(self, k=2, rbf=rbf, inferStds = True, rand_factor_scale = 5):\n",
    "        self.k = k\n",
    "        self.rbf = rbf\n",
    "        self.w = np.random.randn(k)*rand_factor_scale\n",
    "        self.b = np.random.randn(1)*rand_factor_scale\n",
    "        self.inferStds = inferStds\n",
    "        self.fitness = math.inf\n",
    "        self.centers = None\n",
    "        self.stds = None\n",
    "\n",
    "    def predict(self, X):\n",
    "\n",
    "        if self.centers is None:\n",
    "            if self.inferStds:\n",
    "                # compute stds from data\n",
    "                self.centers, self.stds = kmeans(X, self.k)\n",
    "            else:\n",
    "                # use a fixed std\n",
    "                self.centers, _ = kmeans(X, self.k)\n",
    "                dMax = max([np.abs(c1 - c2) for c1 in self.centers for c2 in self.centers])\n",
    "                self.stds = np.repeat(dMax / np.sqrt(2*self.k), self.k)\n",
    "\n",
    "        y_pred = []\n",
    "        for i in range(X.shape[0]):\n",
    "            a = np.array([self.rbf(X[i], c, s) for c, s, in zip(self.centers, self.stds)])\n",
    "            F = a.T.dot(self.w) + self.b\n",
    "            y_pred.append(F)\n",
    "        return np.array(y_pred)\n",
    "    \n",
    "    def evaluate(self, X, y):\n",
    "        predicciones = self.predict(X)\n",
    "        \n",
    "        self.fitness = mean_squared_error(y, predicciones)"
   ]
  },
  {
   "cell_type": "code",
   "execution_count": 95,
   "metadata": {},
   "outputs": [],
   "source": [
    "import copy\n",
    "import random\n",
    "\n",
    "class GeneticRBFNet(object):\n",
    "    \"\"\"Implementation of a Radial Basis Function Network\"\"\"\n",
    "    def __init__(self, k=2, rbf=rbf, inferStds=True, verbose = False):\n",
    "        self.individuo = Individuo(k, rbf, inferStds)\n",
    "        self.verbose = verbose\n",
    "    \n",
    "    \n",
    "    def predict(self, X):\n",
    "        return self.individuo.predict(X)\n",
    "    \n",
    "    def __inicializar_poblacion(self, tam_poblacion):\n",
    "        # generamos un vector con tam_poblacion filas (cada fila un individuo)\n",
    "        # y cada individuo de tamaño tam_individuos\n",
    "        \n",
    "        poblacion = []\n",
    "        \n",
    "        for i in range(tam_poblacion):\n",
    "            # creamos la poblacion como copias del individuo que ya tenemos\n",
    "            poblacion.append(Individuo(self.individuo.k, self.individuo.rbf, self.individuo.inferStds))\n",
    "\n",
    "        return poblacion\n",
    "    \n",
    "    def __evaluar_poblacion(self, poblacion, X, y):\n",
    "        # simplemente evaluamos cada individuo\n",
    "        for individuo in poblacion:\n",
    "            individuo.evaluate(X, y)\n",
    "            \n",
    "        return poblacion\n",
    "    \n",
    "    def __cruce_blx_alpha(self, valor1, valor2, alpha = 0.5):\n",
    "        punto_padre = valor1\n",
    "        punto_madre = valor2 \n",
    "        \n",
    "        # si el punto de cruce del padre es mayor que el de la madre, los intercambiamos\n",
    "        if punto_padre > punto_madre:\n",
    "            punto_padre, punto_madre = punto_madre, punto_padre\n",
    "\n",
    "        seccion = punto_madre - punto_padre\n",
    "\n",
    "        punto_padre = punto_padre - seccion * alpha\n",
    "        punto_madre = punto_madre + seccion * alpha\n",
    "\n",
    "        punto_padre = max(0.0, punto_padre)\n",
    "        punto_madre = max(0.0, punto_madre)\n",
    "\n",
    "        valor_hijo1 = punto_padre + random.random() * (punto_madre - punto_padre)\n",
    "        valor_hijo2 = punto_padre + random.random() * (punto_madre - punto_padre)\n",
    "        \n",
    "        return valor_hijo1, valor_hijo2\n",
    "    \n",
    "    def __cruce_blx_alpha_global(self, padre, madre, alpha = 0.5):\n",
    "        nuevo_w_hijo1 = []\n",
    "        nuevo_w_hijo2 = []\n",
    "        \n",
    "        hijo1 = copy.deepcopy(padre)\n",
    "        hijo2 = copy.deepcopy(madre)\n",
    "\n",
    "        \n",
    "        for i in range(len(padre.w)):\n",
    "            \n",
    "            valor_hijo1, valor_hijo2 = self.__cruce_blx_alpha(padre.w[i], madre.w[i], alpha)\n",
    "            \n",
    "            nuevo_w_hijo1.append(valor_hijo1)\n",
    "            nuevo_w_hijo2.append(valor_hijo2)\n",
    "            \n",
    "        hijo1.w = np.array(nuevo_w_hijo1)\n",
    "        hijo2.w = np.array(nuevo_w_hijo2)\n",
    "        \n",
    "    \n",
    "        hijo1.b, hijo2.b = self.__cruce_blx_alpha(padre.b, madre.b, alpha)\n",
    "\n",
    "        return hijo1, hijo2\n",
    "\n",
    "    def __seleccionar_poblacion(self,poblacion):\n",
    "\n",
    "        nueva_poblacion = []\n",
    "\n",
    "        for elemento in range(len(poblacion)):\n",
    "            primero = random.randint(0,len(poblacion)-1)\n",
    "            segundo = random.randint(0,len(poblacion)-1)\n",
    "\n",
    "            while primero == segundo:\n",
    "                segundo = random.randint(0,len(poblacion)-1)\n",
    "\n",
    "            if poblacion[primero].fitness > poblacion[segundo].fitness:\n",
    "                nueva_poblacion.append(poblacion[segundo])\n",
    "            else:\n",
    "                nueva_poblacion.append(poblacion[primero])\n",
    "\n",
    "        return nueva_poblacion\n",
    "    \n",
    "    def __cruzar_poblacion(self, poblacion, probabilidad_cruce):\n",
    "        \n",
    "        poblacion_cruzada = []\n",
    "        \n",
    "        for i in range(0, len(poblacion), 2):\n",
    "            # miramos si estos dos se cruzan\n",
    "            if random.random() < probabilidad_cruce:\n",
    "                nuevo_hijo1, nuevo_hijo2 = self.__cruce_blx_alpha_global(poblacion[i], poblacion[i + 1])\n",
    "            else:\n",
    "                nuevo_hijo1, nuevo_hijo2 = poblacion[i], poblacion[i + 1]\n",
    "                \n",
    "            poblacion_cruzada.append(nuevo_hijo1)\n",
    "            poblacion_cruzada.append(nuevo_hijo2)\n",
    "    \n",
    "        return poblacion_cruzada\n",
    "\n",
    "\n",
    "    def __mutar(self, individuo, lim_inf=0.5, lim_sup=1.5):\n",
    "\n",
    "        hijo = copy.deepcopy(individuo)\n",
    "\n",
    "        gen_a_mutar = random.randint(0,len(individuo.w))\n",
    "\n",
    "        if (random.random() < 0.5):\n",
    "\n",
    "            if gen_a_mutar == len(individuo.w):\n",
    "                porcentaje = random.uniform(lim_inf, lim_sup)\n",
    "\n",
    "                seccion_inferior = individuo.b - individuo.b*porcentaje\n",
    "                seccion_superior = individuo.b + individuo.b*porcentaje\n",
    "\n",
    "                hijo.b = random.uniform(seccion_inferior, seccion_superior)\n",
    "            else:\n",
    "                porcentaje = random.uniform(lim_inf, lim_sup)\n",
    "                seccion_inferior = individuo.w[gen_a_mutar] - individuo.w[gen_a_mutar]*porcentaje\n",
    "                seccion_superior = individuo.w[gen_a_mutar] + individuo.w[gen_a_mutar]*porcentaje\n",
    "\n",
    "                hijo.w[gen_a_mutar] = random.uniform(seccion_inferior, seccion_superior)\n",
    "        else:\n",
    "            if gen_a_mutar == len(individuo.w):\n",
    "                hijo.b = np.random.randn(1)*5\n",
    "            else:\n",
    "                hijo.w[gen_a_mutar] = np.random.randn(1)*5\n",
    "\n",
    "        return hijo\n",
    "\n",
    "    def __mutar_poblacion(self, poblacion, probabilidad_mutacion):\n",
    "        poblacion_mutada = []\n",
    "        for i in range(len(poblacion)):\n",
    "            # miramos si estos dos se cruzan\n",
    "            if random.random() < probabilidad_mutacion:\n",
    "                mutado = self.__mutar(poblacion[i])\n",
    "            else:\n",
    "                mutado = poblacion[i]\n",
    "\n",
    "            poblacion_mutada.append(mutado)\n",
    "\n",
    "        return poblacion_mutada\n",
    "    \n",
    "    def __algoritmo_genetico_reales(self, X, y, tam_poblacion = 50, num_iteraciones = 1000, probabilidad_cruce = 0.75, probabilidad_mutacion = 0.05, epsilon=0.01):\n",
    "        poblacion = self.__inicializar_poblacion(tam_poblacion)\n",
    "\n",
    "        poblacion = self.__evaluar_poblacion(poblacion, X, y)\n",
    "\n",
    "        iteracion_actual = 1\n",
    "\n",
    "\n",
    "        while (iteracion_actual < num_iteraciones and self.individuo.fitness > epsilon):\n",
    "\n",
    "            # selección de la poblacion\n",
    "            poblacion_seleccionada = self.__seleccionar_poblacion(poblacion)\n",
    "\n",
    "            # cruce de la poblacion\n",
    "            nueva_poblacion = self.__cruzar_poblacion(poblacion_seleccionada, probabilidad_cruce)\n",
    "\n",
    "            # mutación de la población\n",
    "            nueva_poblacion = self.__mutar_poblacion(nueva_poblacion, probabilidad_mutacion)\n",
    "\n",
    "            # reemplazamiento de la poblacion\n",
    "            poblacion = nueva_poblacion\n",
    "            \n",
    "            poblacion = self.__evaluar_poblacion(poblacion, X, y)\n",
    "\n",
    "            # elitismo\n",
    "            \n",
    "            for individuo in poblacion:\n",
    "                if individuo.fitness < self.individuo.fitness:\n",
    "                    # lo hacemos con copia profunda\n",
    "                    self.individuo = copy.deepcopy(individuo)\n",
    "\n",
    "                    if (self.verbose):\n",
    "                        print(self.individuo.fitness)\n",
    "            iteracion_actual += 1\n",
    "    \n",
    "    \n",
    "    def fit(self, X, y, iteraciones = 1000, tam_poblacion = 50, epsilon=0.01):\n",
    "        # tenemos que aprender un vector de tamaño w y el valor de b\n",
    "        self.__algoritmo_genetico_reales(X, y, num_iteraciones=iteraciones, tam_poblacion=tam_poblacion,\n",
    "                                         epsilon=epsilon)\n"
   ]
  },
  {
   "cell_type": "code",
   "execution_count": 96,
   "outputs": [
    {
     "name": "stdout",
     "output_type": "stream",
     "text": [
      "5.3480935354526\n",
      "3.96019259263072\n",
      "0.09578907678234463\n",
      "0.06454867655521841\n",
      "0.049606820560512695\n",
      "0.04765386296588311\n",
      "0.04726566509076724\n",
      "0.04713327054457568\n"
     ]
    }
   ],
   "source": [
    "import numpy as np\n",
    "import matplotlib.pyplot as plt\n",
    "\n",
    "# sample inputs and add noise\n",
    "NUM_SAMPLES = 100\n",
    "X = np.random.uniform(0., 1., NUM_SAMPLES)\n",
    "X = np.sort(X, axis=0)\n",
    "noise = np.random.uniform(-0.1, 0.1, NUM_SAMPLES)\n",
    "y = np.sin(2 * np.pi * X)  + noise\n",
    "\n",
    "rbfnet = GeneticRBFNet(verbose=True)\n",
    "rbfnet.fit(X, y, tam_poblacion=100, iteraciones=1000)\n",
    "\n",
    "y_pred = rbfnet.predict(X)"
   ],
   "metadata": {
    "collapsed": false,
    "pycharm": {
     "name": "#%%\n"
    }
   }
  },
  {
   "cell_type": "code",
   "execution_count": 97,
   "outputs": [
    {
     "data": {
      "text/plain": "<Figure size 432x288 with 1 Axes>",
      "image/png": "[encoded data removed]"
     },
     "metadata": {
      "needs_background": "light"
     },
     "output_type": "display_data"
    },
    {
     "name": "stdout",
     "output_type": "stream",
     "text": [
      "0.04713327054457568\n"
     ]
    }
   ],
   "source": [
    "plt.plot(X, y, '-o', label='true')\n",
    "plt.plot(X, y_pred, '-o', label='RBF-Net')\n",
    "plt.legend()\n",
    "\n",
    "plt.tight_layout()\n",
    "plt.show()\n",
    "\n",
    "print(mean_squared_error(y,y_pred))"
   ],
   "metadata": {
    "collapsed": false,
    "pycharm": {
     "name": "#%%\n"
    }
   }
  },
  {
   "cell_type": "code",
   "execution_count": 98,
   "outputs": [],
   "source": [
    "# Cargamos los nuevos datos\n",
    "\n",
    "import pandas as pd\n",
    "\n",
    "training = pd.read_csv(\"../datos/preprocesados/training_horas.csv\")\n",
    "test = pd.read_csv(\"../datos/preprocesados/test_horas.csv\")\n",
    "\n",
    "x_train = training.to_numpy()[:,:-1]\n",
    "y_train = training.to_numpy()[:,-1]\n",
    "\n",
    "x_test = test.to_numpy()[:,:-1]\n",
    "y_test = test.to_numpy()[:,-1]"
   ],
   "metadata": {
    "collapsed": false,
    "pycharm": {
     "name": "#%%\n"
    }
   }
  },
  {
   "cell_type": "code",
   "execution_count": 100,
   "outputs": [
    {
     "ename": "ValueError",
     "evalue": "y_true and y_pred have different number of output (1!=23)",
     "output_type": "error",
     "traceback": [
      "\u001B[1;31m---------------------------------------------------------------------------\u001B[0m",
      "\u001B[1;31mValueError\u001B[0m                                Traceback (most recent call last)",
      "\u001B[1;32m~\\AppData\\Local\\Temp\\ipykernel_14124\\3634639224.py\u001B[0m in \u001B[0;36m<module>\u001B[1;34m\u001B[0m\n\u001B[0;32m      1\u001B[0m \u001B[0mrbfnet\u001B[0m \u001B[1;33m=\u001B[0m \u001B[0mGeneticRBFNet\u001B[0m\u001B[1;33m(\u001B[0m\u001B[0mverbose\u001B[0m\u001B[1;33m=\u001B[0m\u001B[1;32mTrue\u001B[0m\u001B[1;33m)\u001B[0m\u001B[1;33m\u001B[0m\u001B[0m\n\u001B[1;32m----> 2\u001B[1;33m \u001B[0mrbfnet\u001B[0m\u001B[1;33m.\u001B[0m\u001B[0mfit\u001B[0m\u001B[1;33m(\u001B[0m\u001B[0mx_train\u001B[0m\u001B[1;33m,\u001B[0m \u001B[0my_train\u001B[0m\u001B[1;33m,\u001B[0m \u001B[0mtam_poblacion\u001B[0m\u001B[1;33m=\u001B[0m\u001B[1;36m100\u001B[0m\u001B[1;33m,\u001B[0m \u001B[0miteraciones\u001B[0m\u001B[1;33m=\u001B[0m\u001B[1;36m10000\u001B[0m\u001B[1;33m)\u001B[0m\u001B[1;33m\u001B[0m\u001B[0m\n\u001B[0m\u001B[0;32m      3\u001B[0m \u001B[1;33m\u001B[0m\u001B[0m\n\u001B[0;32m      4\u001B[0m \u001B[0my_pred\u001B[0m \u001B[1;33m=\u001B[0m \u001B[0mrbfnet\u001B[0m\u001B[1;33m.\u001B[0m\u001B[0mpredict\u001B[0m\u001B[1;33m(\u001B[0m\u001B[0mx_test\u001B[0m\u001B[1;33m)\u001B[0m\u001B[1;33m\u001B[0m\u001B[0m\n\u001B[0;32m      5\u001B[0m \u001B[0mprint\u001B[0m\u001B[1;33m(\u001B[0m\u001B[0mmean_squared_error\u001B[0m\u001B[1;33m(\u001B[0m\u001B[0my_pred\u001B[0m\u001B[1;33m,\u001B[0m \u001B[0my_test\u001B[0m\u001B[1;33m)\u001B[0m\u001B[1;33m)\u001B[0m\u001B[1;33m\u001B[0m\u001B[0m\n",
      "\u001B[1;32m~\\AppData\\Local\\Temp\\ipykernel_14124\\3592822503.py\u001B[0m in \u001B[0;36mfit\u001B[1;34m(self, X, y, iteraciones, tam_poblacion, epsilon)\u001B[0m\n\u001B[0;32m    191\u001B[0m         \u001B[1;31m# tenemos que aprender un vector de tamaño w y el valor de b\u001B[0m\u001B[1;33m\u001B[0m\u001B[1;33m\u001B[0m\u001B[0m\n\u001B[0;32m    192\u001B[0m         self.__algoritmo_genetico_reales(X, y, num_iteraciones=iteraciones, tam_poblacion=tam_poblacion,\n\u001B[1;32m--> 193\u001B[1;33m                                          epsilon=epsilon)\n\u001B[0m\u001B[0;32m    194\u001B[0m \u001B[1;33m\u001B[0m\u001B[0m\n",
      "\u001B[1;32m~\\AppData\\Local\\Temp\\ipykernel_14124\\3592822503.py\u001B[0m in \u001B[0;36m__algoritmo_genetico_reales\u001B[1;34m(self, X, y, tam_poblacion, num_iteraciones, probabilidad_cruce, probabilidad_mutacion, epsilon)\u001B[0m\n\u001B[0;32m    155\u001B[0m         \u001B[0mpoblacion\u001B[0m \u001B[1;33m=\u001B[0m \u001B[0mself\u001B[0m\u001B[1;33m.\u001B[0m\u001B[0m__inicializar_poblacion\u001B[0m\u001B[1;33m(\u001B[0m\u001B[0mtam_poblacion\u001B[0m\u001B[1;33m)\u001B[0m\u001B[1;33m\u001B[0m\u001B[0m\n\u001B[0;32m    156\u001B[0m \u001B[1;33m\u001B[0m\u001B[0m\n\u001B[1;32m--> 157\u001B[1;33m         \u001B[0mpoblacion\u001B[0m \u001B[1;33m=\u001B[0m \u001B[0mself\u001B[0m\u001B[1;33m.\u001B[0m\u001B[0m__evaluar_poblacion\u001B[0m\u001B[1;33m(\u001B[0m\u001B[0mpoblacion\u001B[0m\u001B[1;33m,\u001B[0m \u001B[0mX\u001B[0m\u001B[1;33m,\u001B[0m \u001B[0my\u001B[0m\u001B[1;33m)\u001B[0m\u001B[1;33m\u001B[0m\u001B[0m\n\u001B[0m\u001B[0;32m    158\u001B[0m \u001B[1;33m\u001B[0m\u001B[0m\n\u001B[0;32m    159\u001B[0m         \u001B[0miteracion_actual\u001B[0m \u001B[1;33m=\u001B[0m \u001B[1;36m1\u001B[0m\u001B[1;33m\u001B[0m\u001B[0m\n",
      "\u001B[1;32m~\\AppData\\Local\\Temp\\ipykernel_14124\\3592822503.py\u001B[0m in \u001B[0;36m__evaluar_poblacion\u001B[1;34m(self, poblacion, X, y)\u001B[0m\n\u001B[0;32m     27\u001B[0m         \u001B[1;31m# simplemente evaluamos cada individuo\u001B[0m\u001B[1;33m\u001B[0m\u001B[1;33m\u001B[0m\u001B[0m\n\u001B[0;32m     28\u001B[0m         \u001B[1;32mfor\u001B[0m \u001B[0mindividuo\u001B[0m \u001B[1;32min\u001B[0m \u001B[0mpoblacion\u001B[0m\u001B[1;33m:\u001B[0m\u001B[1;33m\u001B[0m\u001B[0m\n\u001B[1;32m---> 29\u001B[1;33m             \u001B[0mindividuo\u001B[0m\u001B[1;33m.\u001B[0m\u001B[0mevaluate\u001B[0m\u001B[1;33m(\u001B[0m\u001B[0mX\u001B[0m\u001B[1;33m,\u001B[0m \u001B[0my\u001B[0m\u001B[1;33m)\u001B[0m\u001B[1;33m\u001B[0m\u001B[0m\n\u001B[0m\u001B[0;32m     30\u001B[0m \u001B[1;33m\u001B[0m\u001B[0m\n\u001B[0;32m     31\u001B[0m         \u001B[1;32mreturn\u001B[0m \u001B[0mpoblacion\u001B[0m\u001B[1;33m\u001B[0m\u001B[0m\n",
      "\u001B[1;32m~\\AppData\\Local\\Temp\\ipykernel_14124\\419692473.py\u001B[0m in \u001B[0;36mevaluate\u001B[1;34m(self, X, y)\u001B[0m\n\u001B[0;32m     35\u001B[0m         \u001B[0mpredicciones\u001B[0m \u001B[1;33m=\u001B[0m \u001B[0mself\u001B[0m\u001B[1;33m.\u001B[0m\u001B[0mpredict\u001B[0m\u001B[1;33m(\u001B[0m\u001B[0mX\u001B[0m\u001B[1;33m)\u001B[0m\u001B[1;33m\u001B[0m\u001B[0m\n\u001B[0;32m     36\u001B[0m \u001B[1;33m\u001B[0m\u001B[0m\n\u001B[1;32m---> 37\u001B[1;33m         \u001B[0mself\u001B[0m\u001B[1;33m.\u001B[0m\u001B[0mfitness\u001B[0m \u001B[1;33m=\u001B[0m \u001B[0mmean_squared_error\u001B[0m\u001B[1;33m(\u001B[0m\u001B[0my\u001B[0m\u001B[1;33m,\u001B[0m \u001B[0mpredicciones\u001B[0m\u001B[1;33m)\u001B[0m\u001B[1;33m\u001B[0m\u001B[0m\n\u001B[0m",
      "\u001B[1;32mc:\\python\\lib\\site-packages\\sklearn\\metrics\\_regression.py\u001B[0m in \u001B[0;36mmean_squared_error\u001B[1;34m(y_true, y_pred, sample_weight, multioutput, squared)\u001B[0m\n\u001B[0;32m    437\u001B[0m     \"\"\"\n\u001B[0;32m    438\u001B[0m     y_type, y_true, y_pred, multioutput = _check_reg_targets(\n\u001B[1;32m--> 439\u001B[1;33m         \u001B[0my_true\u001B[0m\u001B[1;33m,\u001B[0m \u001B[0my_pred\u001B[0m\u001B[1;33m,\u001B[0m \u001B[0mmultioutput\u001B[0m\u001B[1;33m\u001B[0m\u001B[0m\n\u001B[0m\u001B[0;32m    440\u001B[0m     )\n\u001B[0;32m    441\u001B[0m     \u001B[0mcheck_consistent_length\u001B[0m\u001B[1;33m(\u001B[0m\u001B[0my_true\u001B[0m\u001B[1;33m,\u001B[0m \u001B[0my_pred\u001B[0m\u001B[1;33m,\u001B[0m \u001B[0msample_weight\u001B[0m\u001B[1;33m)\u001B[0m\u001B[1;33m\u001B[0m\u001B[0m\n",
      "\u001B[1;32mc:\\python\\lib\\site-packages\\sklearn\\metrics\\_regression.py\u001B[0m in \u001B[0;36m_check_reg_targets\u001B[1;34m(y_true, y_pred, multioutput, dtype)\u001B[0m\n\u001B[0;32m    105\u001B[0m         raise ValueError(\n\u001B[0;32m    106\u001B[0m             \"y_true and y_pred have different number of output ({0}!={1})\".format(\n\u001B[1;32m--> 107\u001B[1;33m                 \u001B[0my_true\u001B[0m\u001B[1;33m.\u001B[0m\u001B[0mshape\u001B[0m\u001B[1;33m[\u001B[0m\u001B[1;36m1\u001B[0m\u001B[1;33m]\u001B[0m\u001B[1;33m,\u001B[0m \u001B[0my_pred\u001B[0m\u001B[1;33m.\u001B[0m\u001B[0mshape\u001B[0m\u001B[1;33m[\u001B[0m\u001B[1;36m1\u001B[0m\u001B[1;33m]\u001B[0m\u001B[1;33m\u001B[0m\u001B[0m\n\u001B[0m\u001B[0;32m    108\u001B[0m             )\n\u001B[0;32m    109\u001B[0m         )\n",
      "\u001B[1;31mValueError\u001B[0m: y_true and y_pred have different number of output (1!=23)"
     ]
    }
   ],
   "source": [
    "rbfnet = GeneticRBFNet(verbose=True)\n",
    "rbfnet.fit(x_train, y_train, tam_poblacion=100, iteraciones=10000)\n",
    "\n",
    "y_pred = rbfnet.predict(x_test)\n",
    "print(mean_squared_error(y_pred, y_test))"
   ],
   "metadata": {
    "collapsed": false,
    "pycharm": {
     "name": "#%%\n"
    }
   }
  },
  {
   "cell_type": "code",
   "execution_count": 101,
   "outputs": [
    {
     "name": "stdout",
     "output_type": "stream",
     "text": [
      "Loss: 843.67\n"
     ]
    },
    {
     "ename": "ValueError",
     "evalue": "operands could not be broadcast together with shapes (2,) (2,23) ",
     "output_type": "error",
     "traceback": [
      "\u001B[1;31m---------------------------------------------------------------------------\u001B[0m",
      "\u001B[1;31mValueError\u001B[0m                                Traceback (most recent call last)",
      "\u001B[1;32m~\\AppData\\Local\\Temp\\ipykernel_14124\\276578797.py\u001B[0m in \u001B[0;36m<module>\u001B[1;34m\u001B[0m\n\u001B[0;32m      1\u001B[0m \u001B[0mrbfnet\u001B[0m \u001B[1;33m=\u001B[0m \u001B[0mRBFNet\u001B[0m\u001B[1;33m(\u001B[0m\u001B[0mverbose\u001B[0m\u001B[1;33m=\u001B[0m\u001B[1;32mTrue\u001B[0m\u001B[1;33m)\u001B[0m\u001B[1;33m\u001B[0m\u001B[0m\n\u001B[1;32m----> 2\u001B[1;33m \u001B[0mrbfnet\u001B[0m\u001B[1;33m.\u001B[0m\u001B[0mfit\u001B[0m\u001B[1;33m(\u001B[0m\u001B[0mx_train\u001B[0m\u001B[1;33m,\u001B[0m \u001B[0my_train\u001B[0m\u001B[1;33m)\u001B[0m\u001B[1;33m\u001B[0m\u001B[0m\n\u001B[0m\u001B[0;32m      3\u001B[0m \u001B[1;33m\u001B[0m\u001B[0m\n\u001B[0;32m      4\u001B[0m \u001B[0my_pred\u001B[0m \u001B[1;33m=\u001B[0m \u001B[0mrbfnet\u001B[0m\u001B[1;33m.\u001B[0m\u001B[0mpredict\u001B[0m\u001B[1;33m(\u001B[0m\u001B[0mx_test\u001B[0m\u001B[1;33m)\u001B[0m\u001B[1;33m\u001B[0m\u001B[0m\n\u001B[0;32m      5\u001B[0m \u001B[0mprint\u001B[0m\u001B[1;33m(\u001B[0m\u001B[0mmean_squared_error\u001B[0m\u001B[1;33m(\u001B[0m\u001B[0my_pred\u001B[0m\u001B[1;33m,\u001B[0m \u001B[0my_test\u001B[0m\u001B[1;33m)\u001B[0m\u001B[1;33m)\u001B[0m\u001B[1;33m\u001B[0m\u001B[0m\n",
      "\u001B[1;32m~\\AppData\\Local\\Temp\\ipykernel_14124\\3364230944.py\u001B[0m in \u001B[0;36mfit\u001B[1;34m(self, X, y)\u001B[0m\n\u001B[0;32m     37\u001B[0m \u001B[1;33m\u001B[0m\u001B[0m\n\u001B[0;32m     38\u001B[0m                 \u001B[1;31m# online update\u001B[0m\u001B[1;33m\u001B[0m\u001B[1;33m\u001B[0m\u001B[0m\n\u001B[1;32m---> 39\u001B[1;33m                 \u001B[0mself\u001B[0m\u001B[1;33m.\u001B[0m\u001B[0mw\u001B[0m \u001B[1;33m=\u001B[0m \u001B[0mself\u001B[0m\u001B[1;33m.\u001B[0m\u001B[0mw\u001B[0m \u001B[1;33m-\u001B[0m \u001B[0mself\u001B[0m\u001B[1;33m.\u001B[0m\u001B[0mlr\u001B[0m \u001B[1;33m*\u001B[0m \u001B[0ma\u001B[0m \u001B[1;33m*\u001B[0m \u001B[0merror\u001B[0m\u001B[1;33m\u001B[0m\u001B[0m\n\u001B[0m\u001B[0;32m     40\u001B[0m                 \u001B[0mself\u001B[0m\u001B[1;33m.\u001B[0m\u001B[0mb\u001B[0m \u001B[1;33m=\u001B[0m \u001B[0mself\u001B[0m\u001B[1;33m.\u001B[0m\u001B[0mb\u001B[0m \u001B[1;33m-\u001B[0m \u001B[0mself\u001B[0m\u001B[1;33m.\u001B[0m\u001B[0mlr\u001B[0m \u001B[1;33m*\u001B[0m \u001B[0merror\u001B[0m\u001B[1;33m\u001B[0m\u001B[0m\n\u001B[0;32m     41\u001B[0m \u001B[1;33m\u001B[0m\u001B[0m\n",
      "\u001B[1;31mValueError\u001B[0m: operands could not be broadcast together with shapes (2,) (2,23) "
     ]
    }
   ],
   "source": [
    "rbfnet = RBFNet(verbose=True)\n",
    "rbfnet.fit(x_train, y_train)\n",
    "\n",
    "y_pred = rbfnet.predict(x_test)\n",
    "print(mean_squared_error(y_pred, y_test))"
   ],
   "metadata": {
    "collapsed": false,
    "pycharm": {
     "name": "#%%\n"
    }
   }
  }
 ],
 "metadata": {
  "kernelspec": {
   "display_name": "Python 3 (ipykernel)",
   "language": "python",
   "name": "python3"
  },
  "language_info": {
   "codemirror_mode": {
    "name": "ipython",
    "version": 3
   },
   "file_extension": ".py",
   "mimetype": "text/x-python",
   "name": "python",
   "nbconvert_exporter": "python",
   "pygments_lexer": "ipython3",
   "version": "3.10.4"
  }
 },
 "nbformat": 4,
 "nbformat_minor": 2
}